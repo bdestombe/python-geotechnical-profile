{
 "cells": [
  {
   "cell_type": "markdown",
   "metadata": {},
   "source": [
    "Overview\n",
    "========\n",
    "\n",
    "A Python package to load raw DTS files, perform a calibration, and plot\n",
    "the result\n",
    "\n",
    "-   Free software: BSD 3-Clause License\n",
    "\n",
    "Installation\n",
    "------------\n",
    "\n",
    "    pip install dtscalibration\n",
    "\n",
    "Learn by examples\n",
    "-----------------\n",
    "\n",
    "Interactively run the example notebooks online by clicking.\n",
    "<https://mybinder.org/v2/gh/bdestombe/python-dts-calibration.git/master?filepath=examples%2Fnotebooks>\n",
    "\n",
    "Documentation\n",
    "-------------\n",
    "\n",
    "<https://python-dts-calibration.readthedocs.io/>\n",
    "\n",
    "Development\n",
    "-----------\n",
    "\n",
    "To run the all tests run:\n",
    "\n",
    "    tox\n",
    "\n",
    "To bump version and docs:\n",
    "\n",
    "    tox\n",
    "    git status  # to make sure no unversioned modifications are in the repository\n",
    "    git add --all\n",
    "    bumpversion patch\n",
    "    rm -rf build\n",
    "    rm -rf src/*.egg-info\n",
    "    rm -rf dist/*\n",
    "    tox\n",
    "    python setup.py clean --all sdist bdist_wheel\n",
    "    twine upload --repository-url https://upload.pypi.org/legacy/ dist/dtscalibration*"
   ]
  },
  {
   "cell_type": "code",
   "execution_count": null,
   "metadata": {},
   "outputs": [],
   "source": []
  }
 ],
 "metadata": {
  "kernelspec": {
   "display_name": "Python 3",
   "language": "python",
   "name": "python3"
  },
  "language_info": {
   "codemirror_mode": {
    "name": "ipython",
    "version": 3
   },
   "file_extension": ".py",
   "mimetype": "text/x-python",
   "name": "python",
   "nbconvert_exporter": "python",
   "pygments_lexer": "ipython3",
   "version": "3.6.6"
  }
 },
 "nbformat": 4,
 "nbformat_minor": 2
}
