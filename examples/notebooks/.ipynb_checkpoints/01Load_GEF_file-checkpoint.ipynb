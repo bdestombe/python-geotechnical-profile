{
 "cells": [
  {
   "cell_type": "markdown",
   "metadata": {},
   "source": [
    "# 1. Load your first measurement files\n",
    "This notebook is located in https://github.com/bdestombe/python-dts-calibration/tree/master/examples/notebooks"
   ]
  },
  {
   "cell_type": "code",
   "execution_count": 1,
   "metadata": {},
   "outputs": [],
   "source": [
    "import os\n",
    "import glob\n",
    "\n",
    "from geotechnicalprofile.gp_datastore import read_gef"
   ]
  },
  {
   "cell_type": "markdown",
   "metadata": {},
   "source": [
    "The data files are located in `./python-dts-calibration/tests/data`"
   ]
  },
  {
   "cell_type": "code",
   "execution_count": 14,
   "metadata": {},
   "outputs": [
    {
     "name": "stdout",
     "output_type": "stream",
     "text": [
      "/Users/bfdestombe/PycharmProjects/GeotechnicalProfile/python-geotechnical-profile/examples/notebooks/../../tests/data/GEF\n"
     ]
    }
   ],
   "source": [
    "try:\n",
    "    # this file is excecuted as script\n",
    "    wd = os.path.dirname(os.path.realpath(__file__))\n",
    "    \n",
    "except:\n",
    "    # Excecuted from console. pwd = ./docs\n",
    "    wd = os.getcwd()\n",
    "\n",
    "folderpath = os.path.join(wd, '..', '..', 'tests', 'data', 'GEF')\n",
    "print(folderpath)"
   ]
  },
  {
   "cell_type": "code",
   "execution_count": 15,
   "metadata": {},
   "outputs": [
    {
     "name": "stdout",
     "output_type": "stream",
     "text": [
      "67059_DKM002.GEF\n",
      "67059_DKM005.GEF\n",
      "67059_DKM006.GEF\n",
      "67059_DKM011.GEF\n",
      "67059_DKM022.GEF\n",
      "67059_DKP001.GEF\n"
     ]
    }
   ],
   "source": [
    "# Just to show which files are in the folder\n",
    "file_ext = '*.GEF'\n",
    "filepathlist = sorted(glob.glob(os.path.join(folderpath, file_ext)))\n",
    "filenamelist = [os.path.basename(path) for path in filepathlist]\n",
    "\n",
    "for fn in filenamelist:\n",
    "    print(fn)\n",
    "    \n",
    "filepath = filepathlist[0]"
   ]
  },
  {
   "cell_type": "code",
   "execution_count": 16,
   "metadata": {},
   "outputs": [
    {
     "data": {
      "text/plain": [
       "'/Users/bfdestombe/PycharmProjects/GeotechnicalProfile/python-geotechnical-profile/examples/notebooks/../../tests/data/GEF/67059_DKM002.GEF'"
      ]
     },
     "execution_count": 16,
     "metadata": {},
     "output_type": "execute_result"
    }
   ],
   "source": [
    "filepath"
   ]
  },
  {
   "cell_type": "code",
   "execution_count": 17,
   "metadata": {},
   "outputs": [],
   "source": [
    "ds = read_gef(filepath)"
   ]
  },
  {
   "cell_type": "code",
   "execution_count": 18,
   "metadata": {},
   "outputs": [
    {
     "name": "stdout",
     "output_type": "stream",
     "text": [
      "<xarray.DataStore>\n",
      "Dimensions:                               (z (m+NAP): 2330)\n",
      "Coordinates:\n",
      "  * z (m+NAP)                             (z (m+NAP)) float64 -1.76 -1.78 ...\n",
      "Data variables:\n",
      "    sondeerlengte (m)                     (z (m+NAP)) float64 0.0 0.02 0.04 ...\n",
      "    Puntdruk (MPa)                        (z (m+NAP)) float64 nan 0.56 0.79 ...\n",
      "    Lokale wrijving (Mpa)                 (z (m+NAP)) float64 nan 0.019 ...\n",
      "    Helling (Graden(deg))                 (z (m+NAP)) float64 nan 1.6 1.633 ...\n",
      "    Helling x (Graden(deg))               (z (m+NAP)) float64 nan -0.9 -0.6 ...\n",
      "    Helling y (Graden(deg))               (z (m+NAP)) float64 nan -1.3 -0.8 ...\n",
      "    Snelheid (cm/s)                       (z (m+NAP)) float64 nan 0.0 1.4 ...\n",
      "    Wrijvingsgetal (%)                    (z (m+NAP)) float64 nan 2.554 ...\n",
      "    Tijd (sec)                            (z (m+NAP)) float64 nan 74.0 76.0 ...\n",
      "    gecorrigeerde diepte (m)              (z (m+NAP)) float64 0.0 0.02 ...\n",
      "    Kh (m per dag)                        (z (m+NAP)) float64 nan 0.0528 ...\n",
      "    Hydraulische weerstand (dag per 2cm)  (z (m+NAP)) float64 0.0 4.825 ...\n",
      "    Rv weerstandslaag (dag per m)         (z (m+NAP)) float64 0.0 241.2 ...\n",
      "    Lithologie                            (z (m+NAP)) int64 1 2 2 3 3 3 2 2 ...\n",
      "    Fijne deeltjes < 75 um (%)            (z (m+NAP)) float64 0.0 100.0 ...\n",
      "Attributes:\n",
      "    GEFID:                                      [1, 1, 0]\n",
      "    FILEOWNER:                                  Wiertsema & Partners\n",
      "    FILEDATE:                                   ['2017', '9', '8']\n",
      "    PROJECTID:                                  ['CPT', '67059', '1']\n",
      "    COLUMN:                                     10\n",
      "    COLUMNINFO:                                 [[1, 'm', 'sondeerlengte', 1]...\n",
      "    COMPANYID:                                  ['Wiertsema & Partners', '020...\n",
      "    DATAFORMAT:                                 ASCII\n",
      "    COLUMNVOID:                                 [[1, -9999.0], [2, -9999.0], ...\n",
      "    LASTSCAN:                                   2330\n",
      "    XYID:                                       [31000, 134992.0, 474008.0, 1...\n",
      "    ZID:                                        [31000, -1.76, 0.01]\n",
      "    MEASUREMENTTEXT:                            [['1', '0', 'opdrachtgever'],...\n",
      "    MEASUREMENTVAR:                             [[1, 1500.0, 'mm2', 'nom. opp...\n",
      "    TESTID:                                     DKM002\n",
      "    REPORTCODE:                                 ['GEF-CPT-Report', '1', '1', ...\n",
      "    STARTDATE:                                  ['2017', '9', '4']\n",
      "    STARTTIME:                                  ['9', '54', '0.000000']\n",
      "    OS:                                         DOS\n",
      "    x (m):                                      134992.0\n",
      "    y (m):                                      474008.0\n",
      "    maaiveld (m+NAP):                           -1.76\n",
      "    nom. opp. conuspunt (mm2):                  1500.0\n",
      "    nom. opp. wrijvingsmantel (mm2):            22530.0\n",
      "    Net. opp. quotint (-):                      0.67\n",
      "    afstand conus tot midden kleefmantel (mm):  100.0\n",
      "    wrijvings-meter aanwezig (-):               1.0\n",
      "    waterdruk-meter u1 aanwezig (-):            0.0\n",
      "    waterdruk-meter u2 aanwezig (-):            0.0\n",
      "    waterdruk-meter u3 aanwezig (-):            0.0\n",
      "    helling-meter aanwezig (-):                 1.0\n",
      "    sondeermethode (-):                         4.0\n",
      "    einddiepte (m):                             46.42281\n",
      "    stopcriterium (-):                          1.0\n",
      "    offset conus voor de meting (MPa):          14.734782\n",
      "    offset conus na de meting (MPa):            14.732331\n",
      "    offset wrijving voor de meting (MPa):       0.0\n",
      "    offset wrijving na de meting (MPa):         0.0\n",
      "    offset helling voor de meting (graden):     0.0\n",
      "    offset helling na de meting (graden):       0.0\n",
      "    offset helling NZ voor de meting (graden):  24.0\n",
      "    offset helling NZ na de meting (graden):    23.4375\n",
      "    offset helling OW voor de meting (graden):  27.1875\n",
      "    offset helling OW na de meting (graden):    26.8125\n",
      "    lithologie_attrs:                           ((1, 'Water voerend'), (2, 'W...\n"
     ]
    }
   ],
   "source": [
    "print(ds)"
   ]
  },
  {
   "cell_type": "code",
   "execution_count": 7,
   "metadata": {},
   "outputs": [],
   "source": []
  }
 ],
 "metadata": {
  "kernelspec": {
   "display_name": "Python 3",
   "language": "python",
   "name": "python3"
  },
  "language_info": {
   "codemirror_mode": {
    "name": "ipython",
    "version": 3
   },
   "file_extension": ".py",
   "mimetype": "text/x-python",
   "name": "python",
   "nbconvert_exporter": "python",
   "pygments_lexer": "ipython3",
   "version": "3.6.6"
  }
 },
 "nbformat": 4,
 "nbformat_minor": 1
}
