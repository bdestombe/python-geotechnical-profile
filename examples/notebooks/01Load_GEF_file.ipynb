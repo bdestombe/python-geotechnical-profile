{
 "cells": [
  {
   "cell_type": "markdown",
   "metadata": {},
   "source": [
    "# 1. Load your first measurement files\n",
    "This notebook is located in https://github.com/bdestombe/python-dts-calibration/tree/master/examples/notebooks"
   ]
  },
  {
   "cell_type": "code",
   "execution_count": 1,
   "metadata": {},
   "outputs": [],
   "source": [
    "import os\n",
    "import glob\n",
    "\n",
    "from geotechnicalprofile.gp_datastore import read_gef"
   ]
  },
  {
   "cell_type": "markdown",
   "metadata": {},
   "source": [
    "The data files are located in `./python-dts-calibration/tests/data`"
   ]
  },
  {
   "cell_type": "code",
   "execution_count": 2,
   "metadata": {},
   "outputs": [
    {
     "name": "stdout",
     "output_type": "stream",
     "text": [
      "/Users/bfdestombe/PycharmProjects/GeotechnicalProfile/python-geotechnical-profile/examples/notebooks/../../tests/data/GEF\n"
     ]
    }
   ],
   "source": [
    "try:\n",
    "    # this file is excecuted as script\n",
    "    wd = os.path.dirname(os.path.realpath(__file__))\n",
    "    \n",
    "except:\n",
    "    # Excecuted from console. pwd = ./docs\n",
    "    wd = os.getcwd()\n",
    "\n",
    "folderpath = os.path.join(wd, '..', '..', 'tests', 'data', 'GEF')\n",
    "print(folderpath)"
   ]
  },
  {
   "cell_type": "code",
   "execution_count": 3,
   "metadata": {},
   "outputs": [
    {
     "name": "stdout",
     "output_type": "stream",
     "text": [
      "67059_DKM002.GEF\n",
      "67059_DKM005.GEF\n",
      "67059_DKM006.GEF\n",
      "67059_DKM011.GEF\n",
      "67059_DKM022.GEF\n",
      "67059_DKP001.GEF\n"
     ]
    }
   ],
   "source": [
    "# Just to show which files are in the folder\n",
    "file_ext = '*.GEF'\n",
    "filepathlist = sorted(glob.glob(os.path.join(folderpath, file_ext)))\n",
    "filenamelist = [os.path.basename(path) for path in filepathlist]\n",
    "\n",
    "for fn in filenamelist:\n",
    "    print(fn)\n",
    "    \n",
    "filepath = filepathlist[0]"
   ]
  },
  {
   "cell_type": "code",
   "execution_count": 4,
   "metadata": {},
   "outputs": [
    {
     "data": {
      "text/plain": [
       "'/Users/bfdestombe/PycharmProjects/GeotechnicalProfile/python-geotechnical-profile/examples/notebooks/../../tests/data/GEF/67059_DKM002.GEF'"
      ]
     },
     "execution_count": 4,
     "metadata": {},
     "output_type": "execute_result"
    }
   ],
   "source": [
    "filepath"
   ]
  },
  {
   "cell_type": "code",
   "execution_count": 5,
   "metadata": {},
   "outputs": [],
   "source": [
    "ds = read_gef(filepath)"
   ]
  },
  {
   "cell_type": "code",
   "execution_count": 6,
   "metadata": {},
   "outputs": [
    {
     "name": "stdout",
     "output_type": "stream",
     "text": [
      "<xarray.DataStore>\n",
      "Dimensions:                  (depth: 2330)\n",
      "Coordinates:\n",
      "    z                        (depth) float64 -1.76 -1.78 -1.8 ... -48.16 -48.18\n",
      "  * depth                    (depth) float64 -0.0 -0.02 ... -46.4 -46.42\n",
      "Data variables:\n",
      "    sondeerlengte            (depth) float64 0.0 0.02 0.04 ... 46.54 46.56 46.58\n",
      "    puntdruk                 (depth) float64 nan 0.56 0.79 ... 59.8 60.2 57.19\n",
      "    lokale wrijving          (depth) float64 nan 0.019 0.023 ... nan nan nan\n",
      "    helling                  (depth) float64 nan 1.6 1.633 1.667 ... 7.1 7.1 7.1\n",
      "    helling x                (depth) float64 nan -0.9 -0.6 ... -6.4 -6.4 -6.4\n",
      "    helling y                (depth) float64 nan -1.3 -0.8 ... -3.2 -3.2 -3.2\n",
      "    snelheid                 (depth) float64 nan 0.0 1.4 1.4 ... 0.7 0.6 0.6 0.6\n",
      "    wrijvingsgetal           (depth) float64 nan 2.554 3.006 ... nan nan nan\n",
      "    tijd                     (depth) float64 nan 74.0 ... 3.978e+03 3.981e+03\n",
      "    gecorrigeerde diepte     (depth) float64 0.0 0.02 0.03999 ... 46.4 46.42\n",
      "    Kh                       (depth) float64 nan 0.0528 0.04737 ... nan nan nan\n",
      "    Hydraulische weerstand1  (depth) float64 -0.0 -4.823 -5.201 ... -0.0 -0.0\n",
      "    Rv weerstandslaag2       (depth) float64 -0.0 -241.1 -260.0 ... -0.0 -0.0\n",
      "    Lithologie               (depth) int64 1 1 1 1 1 1 1 1 1 ... 1 1 1 1 1 1 1 1\n",
      "    Fijne deeltjes < 75 um   (depth) float64 0.0 100.0 100.0 ... 0.0 0.0 0.0\n",
      "Attributes:\n",
      "    GEFID:                                         [1, 1, 0]\n",
      "    FILEOWNER:                                     Wiertsema & Partners\n",
      "    FILEDATE:                                      ['2017', '9', '8']\n",
      "    PROJECTID:                                     ['CPT', '67059', '1']\n",
      "    COMPANYID:                                     ['Wiertsema & Partners', '...\n",
      "    TESTID:                                        DKM002\n",
      "    REPORTCODE:                                    ['GEF-CPT-Report', '1', '1...\n",
      "    x (m):                                         134992.0\n",
      "    y (m):                                         474008.0\n",
      "    maaiveld (m+NAP):                              -1.76\n",
      "    nom. opp. conuspunt (mm2):                     1500.0\n",
      "    nom. opp. wrijvingsmantel (mm2):               22530.0\n",
      "    Net. opp. quotint (-):                         0.67\n",
      "    afstand conus tot midden kleefmantel (mm):     100.0\n",
      "    wrijvings-meter aanwezig (-):                  1.0\n",
      "    waterdruk-meter u1 aanwezig (-):               0.0\n",
      "    waterdruk-meter u2 aanwezig (-):               0.0\n",
      "    waterdruk-meter u3 aanwezig (-):               0.0\n",
      "    helling-meter aanwezig (-):                    1.0\n",
      "    sondeermethode (-):                            4.0\n",
      "    einddiepte (m):                                46.42281\n",
      "    stopcriterium (-):                             1.0\n",
      "    offset conus voor de meting (MPa):             14.734782\n",
      "    offset conus na de meting (MPa):               14.732331\n",
      "    offset wrijving voor de meting (MPa):          0.0\n",
      "    offset wrijving na de meting (MPa):            0.0\n",
      "    offset helling voor de meting (graden):        0.0\n",
      "    offset helling na de meting (graden):          0.0\n",
      "    offset helling NZ voor de meting (graden):     24.0\n",
      "    offset helling NZ na de meting (graden):       23.4375\n",
      "    offset helling OW voor de meting (graden):     27.1875\n",
      "    offset helling OW na de meting (graden):       26.8125\n",
      "    opdrachtgever (1):                             0\n",
      "    projectnaam (2):                               Meetnetwerk met glasvezelk...\n",
      "    projectplaats (3):                             Weesp\n",
      "    conustype (4):                                 SUB-15/080801\n",
      "    sondeerapparaat (5):                           Hyson\n",
      "    norm waaraan deze sondering moet voldoen (6):  Norm: NEN-EN-ISO 22476-1; ...\n",
      "    vast horizontaal referentievlak (9):           maaiveld\n",
      "    methode verticale positiebepaling (42):        MDGZ\n",
      "    methode locatiebepaling (43):                  LDGZ\n",
      "    date:                                          2017-09-04 09:54:00+00:00\n",
      "\\n#FILEOWN...\n",
      "    lithologie_attrs:                              ((1, 'Water voerend'), (2,...\n"
     ]
    }
   ],
   "source": [
    "print(ds)"
   ]
  },
  {
   "cell_type": "code",
   "execution_count": 7,
   "metadata": {},
   "outputs": [],
   "source": []
  }
 ],
 "metadata": {
  "kernelspec": {
   "display_name": "Python 3",
   "language": "python",
   "name": "python3"
  },
  "language_info": {
   "codemirror_mode": {
    "name": "ipython",
    "version": 3
   },
   "file_extension": ".py",
   "mimetype": "text/x-python",
   "name": "python",
   "nbconvert_exporter": "python",
   "pygments_lexer": "ipython3",
   "version": "3.6.6"
  }
 },
 "nbformat": 4,
 "nbformat_minor": 1
}
